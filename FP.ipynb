{
  "nbformat": 4,
  "nbformat_minor": 0,
  "metadata": {
    "colab": {
      "provenance": [],
      "authorship_tag": "ABX9TyMnsas1Qfqoawy/E7T09Sal",
      "include_colab_link": true
    },
    "kernelspec": {
      "name": "python3",
      "display_name": "Python 3"
    },
    "language_info": {
      "name": "python"
    }
  },
  "cells": [
    {
      "cell_type": "markdown",
      "metadata": {
        "id": "view-in-github",
        "colab_type": "text"
      },
      "source": [
        "<a href=\"https://colab.research.google.com/github/pawan123-k/my-project/blob/main/FP.ipynb\" target=\"_parent\"><img src=\"https://colab.research.google.com/assets/colab-badge.svg\" alt=\"Open In Colab\"/></a>"
      ]
    },
    {
      "cell_type": "code",
      "execution_count": null,
      "metadata": {
        "colab": {
          "base_uri": "https://localhost:8080/"
        },
        "id": "CKkTaGm8xG4i",
        "outputId": "8028967d-0f02-4458-92b3-f0aca223841e"
      },
      "outputs": [
        {
          "output_type": "stream",
          "name": "stdout",
          "text": [
            "Requirement already satisfied: nibabel in /usr/local/lib/python3.11/dist-packages (5.3.2)\n",
            "Requirement already satisfied: opencv-python-headless in /usr/local/lib/python3.11/dist-packages (4.11.0.86)\n",
            "Requirement already satisfied: kagglehub in /usr/local/lib/python3.11/dist-packages (0.3.12)\n",
            "Requirement already satisfied: importlib-resources>=5.12 in /usr/local/lib/python3.11/dist-packages (from nibabel) (6.5.2)\n",
            "Requirement already satisfied: numpy>=1.22 in /usr/local/lib/python3.11/dist-packages (from nibabel) (2.0.2)\n",
            "Requirement already satisfied: packaging>=20 in /usr/local/lib/python3.11/dist-packages (from nibabel) (24.2)\n",
            "Requirement already satisfied: typing-extensions>=4.6 in /usr/local/lib/python3.11/dist-packages (from nibabel) (4.13.2)\n",
            "Requirement already satisfied: pyyaml in /usr/local/lib/python3.11/dist-packages (from kagglehub) (6.0.2)\n",
            "Requirement already satisfied: requests in /usr/local/lib/python3.11/dist-packages (from kagglehub) (2.32.3)\n",
            "Requirement already satisfied: tqdm in /usr/local/lib/python3.11/dist-packages (from kagglehub) (4.67.1)\n",
            "Requirement already satisfied: charset-normalizer<4,>=2 in /usr/local/lib/python3.11/dist-packages (from requests->kagglehub) (3.4.2)\n",
            "Requirement already satisfied: idna<4,>=2.5 in /usr/local/lib/python3.11/dist-packages (from requests->kagglehub) (3.10)\n",
            "Requirement already satisfied: urllib3<3,>=1.21.1 in /usr/local/lib/python3.11/dist-packages (from requests->kagglehub) (2.4.0)\n",
            "Requirement already satisfied: certifi>=2017.4.17 in /usr/local/lib/python3.11/dist-packages (from requests->kagglehub) (2025.4.26)\n"
          ]
        }
      ],
      "source": [
        "!pip install nibabel opencv-python-headless kagglehub\n",
        "\n",
        "import os\n",
        "import numpy as np\n",
        "import nibabel as nib\n",
        "import cv2\n",
        "import tensorflow as tf\n",
        "from sklearn.model_selection import train_test_split\n",
        "from tensorflow.keras import layers, models\n",
        "import kagglehub"
      ]
    },
    {
      "cell_type": "code",
      "source": [
        "from google.colab import files\n",
        "files.upload()  # Select your kaggle.json file here"
      ],
      "metadata": {
        "colab": {
          "base_uri": "https://localhost:8080/",
          "height": 90
        },
        "id": "ymieWSfhxLyG",
        "outputId": "1bf47f14-7614-461e-8805-117744e1e807"
      },
      "execution_count": null,
      "outputs": [
        {
          "output_type": "display_data",
          "data": {
            "text/plain": [
              "<IPython.core.display.HTML object>"
            ],
            "text/html": [
              "\n",
              "     <input type=\"file\" id=\"files-72ffe404-4b00-417e-82f0-17a04b3227fd\" name=\"files[]\" multiple disabled\n",
              "        style=\"border:none\" />\n",
              "     <output id=\"result-72ffe404-4b00-417e-82f0-17a04b3227fd\">\n",
              "      Upload widget is only available when the cell has been executed in the\n",
              "      current browser session. Please rerun this cell to enable.\n",
              "      </output>\n",
              "      <script>// Copyright 2017 Google LLC\n",
              "//\n",
              "// Licensed under the Apache License, Version 2.0 (the \"License\");\n",
              "// you may not use this file except in compliance with the License.\n",
              "// You may obtain a copy of the License at\n",
              "//\n",
              "//      http://www.apache.org/licenses/LICENSE-2.0\n",
              "//\n",
              "// Unless required by applicable law or agreed to in writing, software\n",
              "// distributed under the License is distributed on an \"AS IS\" BASIS,\n",
              "// WITHOUT WARRANTIES OR CONDITIONS OF ANY KIND, either express or implied.\n",
              "// See the License for the specific language governing permissions and\n",
              "// limitations under the License.\n",
              "\n",
              "/**\n",
              " * @fileoverview Helpers for google.colab Python module.\n",
              " */\n",
              "(function(scope) {\n",
              "function span(text, styleAttributes = {}) {\n",
              "  const element = document.createElement('span');\n",
              "  element.textContent = text;\n",
              "  for (const key of Object.keys(styleAttributes)) {\n",
              "    element.style[key] = styleAttributes[key];\n",
              "  }\n",
              "  return element;\n",
              "}\n",
              "\n",
              "// Max number of bytes which will be uploaded at a time.\n",
              "const MAX_PAYLOAD_SIZE = 100 * 1024;\n",
              "\n",
              "function _uploadFiles(inputId, outputId) {\n",
              "  const steps = uploadFilesStep(inputId, outputId);\n",
              "  const outputElement = document.getElementById(outputId);\n",
              "  // Cache steps on the outputElement to make it available for the next call\n",
              "  // to uploadFilesContinue from Python.\n",
              "  outputElement.steps = steps;\n",
              "\n",
              "  return _uploadFilesContinue(outputId);\n",
              "}\n",
              "\n",
              "// This is roughly an async generator (not supported in the browser yet),\n",
              "// where there are multiple asynchronous steps and the Python side is going\n",
              "// to poll for completion of each step.\n",
              "// This uses a Promise to block the python side on completion of each step,\n",
              "// then passes the result of the previous step as the input to the next step.\n",
              "function _uploadFilesContinue(outputId) {\n",
              "  const outputElement = document.getElementById(outputId);\n",
              "  const steps = outputElement.steps;\n",
              "\n",
              "  const next = steps.next(outputElement.lastPromiseValue);\n",
              "  return Promise.resolve(next.value.promise).then((value) => {\n",
              "    // Cache the last promise value to make it available to the next\n",
              "    // step of the generator.\n",
              "    outputElement.lastPromiseValue = value;\n",
              "    return next.value.response;\n",
              "  });\n",
              "}\n",
              "\n",
              "/**\n",
              " * Generator function which is called between each async step of the upload\n",
              " * process.\n",
              " * @param {string} inputId Element ID of the input file picker element.\n",
              " * @param {string} outputId Element ID of the output display.\n",
              " * @return {!Iterable<!Object>} Iterable of next steps.\n",
              " */\n",
              "function* uploadFilesStep(inputId, outputId) {\n",
              "  const inputElement = document.getElementById(inputId);\n",
              "  inputElement.disabled = false;\n",
              "\n",
              "  const outputElement = document.getElementById(outputId);\n",
              "  outputElement.innerHTML = '';\n",
              "\n",
              "  const pickedPromise = new Promise((resolve) => {\n",
              "    inputElement.addEventListener('change', (e) => {\n",
              "      resolve(e.target.files);\n",
              "    });\n",
              "  });\n",
              "\n",
              "  const cancel = document.createElement('button');\n",
              "  inputElement.parentElement.appendChild(cancel);\n",
              "  cancel.textContent = 'Cancel upload';\n",
              "  const cancelPromise = new Promise((resolve) => {\n",
              "    cancel.onclick = () => {\n",
              "      resolve(null);\n",
              "    };\n",
              "  });\n",
              "\n",
              "  // Wait for the user to pick the files.\n",
              "  const files = yield {\n",
              "    promise: Promise.race([pickedPromise, cancelPromise]),\n",
              "    response: {\n",
              "      action: 'starting',\n",
              "    }\n",
              "  };\n",
              "\n",
              "  cancel.remove();\n",
              "\n",
              "  // Disable the input element since further picks are not allowed.\n",
              "  inputElement.disabled = true;\n",
              "\n",
              "  if (!files) {\n",
              "    return {\n",
              "      response: {\n",
              "        action: 'complete',\n",
              "      }\n",
              "    };\n",
              "  }\n",
              "\n",
              "  for (const file of files) {\n",
              "    const li = document.createElement('li');\n",
              "    li.append(span(file.name, {fontWeight: 'bold'}));\n",
              "    li.append(span(\n",
              "        `(${file.type || 'n/a'}) - ${file.size} bytes, ` +\n",
              "        `last modified: ${\n",
              "            file.lastModifiedDate ? file.lastModifiedDate.toLocaleDateString() :\n",
              "                                    'n/a'} - `));\n",
              "    const percent = span('0% done');\n",
              "    li.appendChild(percent);\n",
              "\n",
              "    outputElement.appendChild(li);\n",
              "\n",
              "    const fileDataPromise = new Promise((resolve) => {\n",
              "      const reader = new FileReader();\n",
              "      reader.onload = (e) => {\n",
              "        resolve(e.target.result);\n",
              "      };\n",
              "      reader.readAsArrayBuffer(file);\n",
              "    });\n",
              "    // Wait for the data to be ready.\n",
              "    let fileData = yield {\n",
              "      promise: fileDataPromise,\n",
              "      response: {\n",
              "        action: 'continue',\n",
              "      }\n",
              "    };\n",
              "\n",
              "    // Use a chunked sending to avoid message size limits. See b/62115660.\n",
              "    let position = 0;\n",
              "    do {\n",
              "      const length = Math.min(fileData.byteLength - position, MAX_PAYLOAD_SIZE);\n",
              "      const chunk = new Uint8Array(fileData, position, length);\n",
              "      position += length;\n",
              "\n",
              "      const base64 = btoa(String.fromCharCode.apply(null, chunk));\n",
              "      yield {\n",
              "        response: {\n",
              "          action: 'append',\n",
              "          file: file.name,\n",
              "          data: base64,\n",
              "        },\n",
              "      };\n",
              "\n",
              "      let percentDone = fileData.byteLength === 0 ?\n",
              "          100 :\n",
              "          Math.round((position / fileData.byteLength) * 100);\n",
              "      percent.textContent = `${percentDone}% done`;\n",
              "\n",
              "    } while (position < fileData.byteLength);\n",
              "  }\n",
              "\n",
              "  // All done.\n",
              "  yield {\n",
              "    response: {\n",
              "      action: 'complete',\n",
              "    }\n",
              "  };\n",
              "}\n",
              "\n",
              "scope.google = scope.google || {};\n",
              "scope.google.colab = scope.google.colab || {};\n",
              "scope.google.colab._files = {\n",
              "  _uploadFiles,\n",
              "  _uploadFilesContinue,\n",
              "};\n",
              "})(self);\n",
              "</script> "
            ]
          },
          "metadata": {}
        },
        {
          "output_type": "stream",
          "name": "stdout",
          "text": [
            "Saving kaggle.json to kaggle.json\n"
          ]
        },
        {
          "output_type": "execute_result",
          "data": {
            "text/plain": [
              "{'kaggle.json': b'{\"username\":\"zorojoro\",\"key\":\"43f23108f5222230862699c91c361bc2\"}'}"
            ]
          },
          "metadata": {},
          "execution_count": 2
        }
      ]
    },
    {
      "cell_type": "code",
      "source": [
        "!mkdir -p ~/.kaggle\n",
        "!cp kaggle.json ~/.kaggle/\n",
        "!chmod 600 ~/.kaggle/kaggle.json\n",
        "\n",
        "!kaggle datasets download -d andrewmvd/liver-tumor-segmentation\n",
        "\n",
        "import zipfile\n",
        "\n",
        "with zipfile.ZipFile(\"liver-tumor-segmentation.zip\", 'r') as zip_ref:\n",
        "    zip_ref.extractall(\"liver_tumor_dataset\")"
      ],
      "metadata": {
        "colab": {
          "base_uri": "https://localhost:8080/"
        },
        "id": "efOthpVLxbTY",
        "outputId": "9c327578-99b2-43bb-ad8a-255619b973c4"
      },
      "execution_count": null,
      "outputs": [
        {
          "output_type": "stream",
          "name": "stdout",
          "text": [
            "Dataset URL: https://www.kaggle.com/datasets/andrewmvd/liver-tumor-segmentation\n",
            "License(s): Attribution-NonCommercial-NoDerivatives 4.0 International (CC BY-NC-ND 4.0)\n",
            "Downloading liver-tumor-segmentation.zip to /content\n",
            " 99% 4.81G/4.84G [00:47<00:00, 151MB/s]\n",
            "100% 4.84G/4.84G [00:47<00:00, 108MB/s]\n"
          ]
        }
      ]
    },
    {
      "cell_type": "code",
      "source": [
        "from google.colab import drive\n",
        "drive.mount('/content/drive')"
      ],
      "metadata": {
        "colab": {
          "base_uri": "https://localhost:8080/"
        },
        "id": "8POzQJo1yy_h",
        "outputId": "547fbef4-244b-4d54-a8dd-9b0b6b89e341"
      },
      "execution_count": null,
      "outputs": [
        {
          "output_type": "stream",
          "name": "stdout",
          "text": [
            "Mounted at /content/drive\n"
          ]
        }
      ]
    },
    {
      "cell_type": "code",
      "source": [
        "import zipfile\n",
        "\n",
        "with zipfile.ZipFile(\"liver-tumor-segmentation.zip\", 'r') as zip_ref:\n",
        "    zip_ref.extractall(\"liver_tumor_dataset\")\n",
        "\n",
        "from google.colab import drive\n",
        "drive.mount('/content/drive')\n",
        "\n",
        "import shutil\n",
        "\n",
        "# Merge all .nii volumes\n",
        "merged_volume_path = '/content/liver_tumor_dataset/all_volumes'\n",
        "os.makedirs(merged_volume_path, exist_ok=True)\n",
        "\n",
        "for pt in range(1, 6):\n",
        "    part_path = f'/content/liver_tumor_dataset/volume_pt{pt}'\n",
        "    if os.path.exists(part_path):\n",
        "        for file in os.listdir(part_path):\n",
        "            if file.endswith('.nii'):\n",
        "                shutil.copy(os.path.join(part_path, file), merged_volume_path)\n",
        "\n",
        "image_dir = merged_volume_path\n",
        "label_dir = '/content/liver_tumor_dataset/segmentations'"
      ],
      "metadata": {
        "colab": {
          "base_uri": "https://localhost:8080/"
        },
        "id": "O-g1arcHy7yL",
        "outputId": "bb8628bd-a21a-42b0-ebfc-d7e58bd8408e"
      },
      "execution_count": null,
      "outputs": [
        {
          "output_type": "stream",
          "name": "stdout",
          "text": [
            "Drive already mounted at /content/drive; to attempt to forcibly remount, call drive.mount(\"/content/drive\", force_remount=True).\n"
          ]
        }
      ]
    },
    {
      "cell_type": "code",
      "source": [
        "# Load NIfTI images\n",
        "def load_nii_images(volume_path, seg_path, image_size=(128, 128)):\n",
        "    if not os.path.exists(volume_path) or not os.path.exists(seg_path):\n",
        "        return np.empty((0, *image_size, 1)), np.empty((0,))\n",
        "\n",
        "    vol_files = sorted([f for f in os.listdir(volume_path) if f.endswith('.nii') or f.endswith('.nii.gz')])\n",
        "    seg_files = sorted([f for f in os.listdir(seg_path) if f.endswith('.nii') or f.endswith('.nii.gz')])\n",
        "\n",
        "    images, labels = [], []\n",
        "    for vol_file, seg_file in zip(vol_files, seg_files):\n",
        "        vol = nib.load(os.path.join(volume_path, vol_file)).get_fdata()\n",
        "        seg = nib.load(os.path.join(seg_path, seg_file)).get_fdata()\n",
        "\n",
        "        for slice_idx in range(min(vol.shape[2], seg.shape[2])):\n",
        "            img_slice = vol[:, :, slice_idx]\n",
        "            seg_slice = seg[:, :, slice_idx]\n",
        "            label = 1 if np.any(seg_slice > 0) else 0\n",
        "            img_resized = cv2.resize(img_slice.astype(np.float32), image_size)\n",
        "            images.append(img_resized)\n",
        "            labels.append(label)\n",
        "\n",
        "    return np.expand_dims(np.array(images), axis=-1), np.array(labels)\n",
        "\n",
        "X, y = load_nii_images(image_dir, label_dir)\n",
        "\n",
        "if X.shape[0] == 0 or y.shape[0] == 0:\n",
        "    X = np.random.rand(100, 128, 128, 1)\n",
        "    y = np.random.randint(0, 2, 100)\n",
        "\n",
        "if X.shape[0] > 0 and y.shape[0] > 0:\n",
        "    X = X / 255.0\n",
        "    X_train, X_test, y_train, y_test = train_test_split(X, y, test_size=0.2, random_state=42)"
      ],
      "metadata": {
        "id": "rof36oSL0PTM"
      },
      "execution_count": null,
      "outputs": []
    },
    {
      "cell_type": "code",
      "source": [
        "# CNN Model\n",
        "def build_cnn(input_shape):\n",
        "    model = models.Sequential()\n",
        "    model.add(layers.Conv2D(32, (3, 3), activation='relu', input_shape=input_shape))\n",
        "    model.add(layers.MaxPooling2D((2, 2)))\n",
        "    model.add(layers.Conv2D(64, (3, 3), activation='relu'))\n",
        "    model.add(layers.MaxPooling2D((2, 2)))\n",
        "    model.add(layers.Conv2D(128, (3, 3), activation='relu'))\n",
        "    model.add(layers.MaxPooling2D((2, 2)))\n",
        "    model.add(layers.Flatten())\n",
        "    model.add(layers.Dense(128, activation='relu'))\n",
        "    model.add(layers.Dropout(0.5))\n",
        "    model.add(layers.Dense(1, activation='sigmoid'))\n",
        "    model.compile(optimizer='adam', loss='binary_crossentropy', metrics=['accuracy'])\n",
        "    return model\n",
        "\n",
        "cnn_model = build_cnn(input_shape=X_train.shape[1:])\n",
        "cnn_model.fit(X_train, y_train, epochs=2, batch_size=32, validation_data=(X_test, y_test))\n",
        "cnn_accuracy = cnn_model.evaluate(X_test, y_test, verbose=0)[1]\n",
        "print(\"CNN Accuracy:\", cnn_accuracy)"
      ],
      "metadata": {
        "colab": {
          "base_uri": "https://localhost:8080/"
        },
        "id": "XCmzDNo60yNJ",
        "outputId": "ee3ff8f7-e7ae-40ca-f2d7-feca5d1532ee"
      },
      "execution_count": null,
      "outputs": [
        {
          "output_type": "stream",
          "name": "stderr",
          "text": [
            "/usr/local/lib/python3.11/dist-packages/keras/src/layers/convolutional/base_conv.py:107: UserWarning: Do not pass an `input_shape`/`input_dim` argument to a layer. When using Sequential models, prefer using an `Input(shape)` object as the first layer in the model instead.\n",
            "  super().__init__(activity_regularizer=activity_regularizer, **kwargs)\n"
          ]
        },
        {
          "output_type": "stream",
          "name": "stdout",
          "text": [
            "Epoch 1/2\n",
            "\u001b[1m430/430\u001b[0m \u001b[32m━━━━━━━━━━━━━━━━━━━━\u001b[0m\u001b[37m\u001b[0m \u001b[1m461s\u001b[0m 1s/step - accuracy: 0.8004 - loss: 0.4624 - val_accuracy: 0.9616 - val_loss: 0.1027\n",
            "Epoch 2/2\n",
            "\u001b[1m430/430\u001b[0m \u001b[32m━━━━━━━━━━━━━━━━━━━━\u001b[0m\u001b[37m\u001b[0m \u001b[1m492s\u001b[0m 1s/step - accuracy: 0.9543 - loss: 0.1158 - val_accuracy: 0.9918 - val_loss: 0.0295\n",
            "CNN Accuracy: 0.9918485879898071\n"
          ]
        }
      ]
    },
    {
      "cell_type": "code",
      "source": [
        "# RNN Model\n",
        "X_rnn = X.reshape((X.shape[0], X.shape[1], X.shape[2]))\n",
        "X_train_rnn, X_test_rnn, y_train_rnn, y_test_rnn = train_test_split(X_rnn, y, test_size=0.2, random_state=42)\n",
        "\n",
        "def build_rnn(input_shape):\n",
        "    model = models.Sequential([\n",
        "        layers.Input(shape=input_shape),\n",
        "        layers.LSTM(64),\n",
        "        layers.Dense(1, activation='sigmoid')\n",
        "    ])\n",
        "    model.compile(optimizer='adam', loss='binary_crossentropy', metrics=['accuracy'])\n",
        "    return model\n",
        "\n",
        "rnn_model = build_rnn(X_train_rnn.shape[1:])\n",
        "rnn_model.fit(X_train_rnn, y_train_rnn, epochs=2, batch_size=32, validation_data=(X_test_rnn, y_test_rnn))\n",
        "rnn_accuracy = rnn_model.evaluate(X_test_rnn, y_test_rnn, verbose=0)[1]\n",
        "print(\"RNN Accuracy:\", rnn_accuracy)\n"
      ],
      "metadata": {
        "colab": {
          "base_uri": "https://localhost:8080/"
        },
        "id": "q2MRSPga40kK",
        "outputId": "b714004b-decd-4f3f-fd90-6a02bf9bf0d0"
      },
      "execution_count": null,
      "outputs": [
        {
          "output_type": "stream",
          "name": "stdout",
          "text": [
            "Epoch 1/2\n",
            "\u001b[1m430/430\u001b[0m \u001b[32m━━━━━━━━━━━━━━━━━━━━\u001b[0m\u001b[37m\u001b[0m \u001b[1m34s\u001b[0m 75ms/step - accuracy: 0.7500 - loss: 0.5201 - val_accuracy: 0.7904 - val_loss: 0.4683\n",
            "Epoch 2/2\n",
            "\u001b[1m430/430\u001b[0m \u001b[32m━━━━━━━━━━━━━━━━━━━━\u001b[0m\u001b[37m\u001b[0m \u001b[1m40s\u001b[0m 73ms/step - accuracy: 0.7941 - loss: 0.4073 - val_accuracy: 0.8236 - val_loss: 0.3363\n",
            "RNN Accuracy: 0.823580801486969\n"
          ]
        }
      ]
    },
    {
      "cell_type": "code",
      "source": [
        "# Simple GAN Generator\n",
        "def build_generator(latent_dim):\n",
        "    model = models.Sequential([\n",
        "        layers.Dense(128 * 32 * 32, activation=\"relu\", input_dim=latent_dim),\n",
        "        layers.Reshape((32, 32, 128)),\n",
        "        layers.UpSampling2D(),\n",
        "        layers.Conv2D(128, kernel_size=3, padding=\"same\"),\n",
        "        layers.BatchNormalization(momentum=0.8),\n",
        "        layers.Activation(\"relu\"),\n",
        "        layers.UpSampling2D(),\n",
        "        layers.Conv2D(1, kernel_size=3, padding=\"same\"),\n",
        "        layers.Activation(\"tanh\")\n",
        "    ])\n",
        "    return model\n",
        "\n",
        "latent_dim = 100\n",
        "generator = build_generator(latent_dim)\n",
        "\n",
        "#  GAN sample generation + CNN retraining\n",
        "import gc\n",
        "import tensorflow.keras.backend as K\n",
        "\n",
        "def generate_and_train_batchwise(cnn_model, generator, X_train, y_train, latent_dim=100, batch_size=64, steps=10):\n",
        "    for step in range(steps):\n",
        "        idx = np.random.randint(0, len(X_train), batch_size)\n",
        "        real_imgs = X_train[idx]\n",
        "        real_labels = y_train[idx]\n",
        "\n",
        "        noise = np.random.normal(0, 1, (batch_size, latent_dim))\n",
        "        fake_imgs = generator.predict(noise, verbose=0)\n",
        "        fake_imgs_resized = np.array([cv2.resize(img, (128, 128)).reshape(128, 128, 1) for img in fake_imgs])\n",
        "\n",
        "        combined_imgs = np.concatenate((real_imgs, fake_imgs_resized), axis=0)\n",
        "        combined_labels = np.concatenate((real_labels, np.ones((batch_size,))), axis=0)\n",
        "\n",
        "        cnn_model.fit(combined_imgs, combined_labels, epochs=1, batch_size=batch_size, verbose=1)\n",
        "\n",
        "        del fake_imgs, fake_imgs_resized, combined_imgs, combined_labels\n",
        "        K.clear_session()\n",
        "        gc.collect()\n",
        "\n",
        "    final_acc = cnn_model.evaluate(X_test, y_test, verbose=0)[1]\n",
        "    print(\"CNN Accuracy after GAN augmentation:\", final_acc)\n",
        "    return final_acc\n",
        "\n",
        "#  GAN + CNN training\n",
        "generate_and_train_batchwise(cnn_model, generator, X_train, y_train, latent_dim=latent_dim, batch_size=64, steps=10)\n"
      ],
      "metadata": {
        "colab": {
          "base_uri": "https://localhost:8080/"
        },
        "id": "zGxm7O2A5Naf",
        "outputId": "b5b00fd3-9032-41a8-e4bd-27fd44478992"
      },
      "execution_count": null,
      "outputs": [
        {
          "output_type": "stream",
          "name": "stdout",
          "text": [
            "\u001b[1m2/2\u001b[0m \u001b[32m━━━━━━━━━━━━━━━━━━━━\u001b[0m\u001b[37m\u001b[0m \u001b[1m4s\u001b[0m 2s/step - accuracy: 0.9740 - loss: 0.0823\n",
            "\u001b[1m2/2\u001b[0m \u001b[32m━━━━━━━━━━━━━━━━━━━━\u001b[0m\u001b[37m\u001b[0m \u001b[1m5s\u001b[0m 3s/step - accuracy: 1.0000 - loss: 0.0326\n",
            "\u001b[1m2/2\u001b[0m \u001b[32m━━━━━━━━━━━━━━━━━━━━\u001b[0m\u001b[37m\u001b[0m \u001b[1m4s\u001b[0m 2s/step - accuracy: 0.9688 - loss: 0.0409\n",
            "\u001b[1m2/2\u001b[0m \u001b[32m━━━━━━━━━━━━━━━━━━━━\u001b[0m\u001b[37m\u001b[0m \u001b[1m5s\u001b[0m 3s/step - accuracy: 0.9635 - loss: 0.0629\n",
            "\u001b[1m2/2\u001b[0m \u001b[32m━━━━━━━━━━━━━━━━━━━━\u001b[0m\u001b[37m\u001b[0m \u001b[1m3s\u001b[0m 2s/step - accuracy: 0.9479 - loss: 0.0926\n",
            "\u001b[1m2/2\u001b[0m \u001b[32m━━━━━━━━━━━━━━━━━━━━\u001b[0m\u001b[37m\u001b[0m \u001b[1m3s\u001b[0m 2s/step - accuracy: 1.0000 - loss: 0.0143\n",
            "\u001b[1m2/2\u001b[0m \u001b[32m━━━━━━━━━━━━━━━━━━━━\u001b[0m\u001b[37m\u001b[0m \u001b[1m4s\u001b[0m 2s/step - accuracy: 0.9740 - loss: 0.0328\n",
            "\u001b[1m2/2\u001b[0m \u001b[32m━━━━━━━━━━━━━━━━━━━━\u001b[0m\u001b[37m\u001b[0m \u001b[1m4s\u001b[0m 2s/step - accuracy: 0.9896 - loss: 0.0342\n",
            "\u001b[1m2/2\u001b[0m \u001b[32m━━━━━━━━━━━━━━━━━━━━\u001b[0m\u001b[37m\u001b[0m \u001b[1m5s\u001b[0m 2s/step - accuracy: 0.9896 - loss: 0.0244\n",
            "\u001b[1m2/2\u001b[0m \u001b[32m━━━━━━━━━━━━━━━━━━━━\u001b[0m\u001b[37m\u001b[0m \u001b[1m3s\u001b[0m 2s/step - accuracy: 0.9792 - loss: 0.0264\n",
            "CNN Accuracy after GAN augmentation: 0.9930130839347839\n"
          ]
        },
        {
          "output_type": "execute_result",
          "data": {
            "text/plain": [
              "0.9930130839347839"
            ]
          },
          "metadata": {},
          "execution_count": 10
        }
      ]
    }
  ]
}